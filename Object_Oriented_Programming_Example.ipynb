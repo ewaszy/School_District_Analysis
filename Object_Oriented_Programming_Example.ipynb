{
 "cells": [
  {
   "cell_type": "markdown",
   "id": "01fb3b6a",
   "metadata": {},
   "source": [
    "# 4.9.3 Object Oriented Programming\n",
    "In expressions like df.head(), what exactly does the period refer to? \n",
    "\n",
    "Object-oriented programming (OOP) is a way of organizing information in programming. \n",
    "* It is based on the concepts of classes and objects. \n",
    "\n",
    "Imagine a mold for a toy car at a toy factory. \n",
    "* The mold can be used to create identical toy cars, but each car is a separate object. \n",
    "* If a child places a sticker on one particular car, for example, only that car will have the sticker. \n",
    "* In object-oriented programming, the class is like the mold, and the object is like a particular toy car."
   ]
  },
  {
   "cell_type": "markdown",
   "id": "afb683db",
   "metadata": {},
   "source": [
    "## A) To create a class called Cat, let's try the following code.\n",
    "The keyword class is used to create a class. \n",
    "\n",
    "Then, the __init__ method is a special method called a \"class constructor\" that Python calls every time a new instance of the class is created. \n",
    "\n",
    "This method takes two arguments: self and name.\n",
    "* The self argument refers to a specific Cat object that is created when this method is called. "
   ]
  },
  {
   "cell_type": "code",
   "execution_count": 1,
   "id": "67585ca0",
   "metadata": {},
   "outputs": [],
   "source": [
    "class Cat:\n",
    "    def __init__(self, name):\n",
    "        self.name = name"
   ]
  },
  {
   "cell_type": "markdown",
   "id": "92456fac",
   "metadata": {},
   "source": [
    "## B) The second argument, name, will be specified each time a new Cat object is created. \n",
    "Here, an object whose name is Felix is created, or instantiated. \n",
    "\n",
    "Since it is assigned to the variable first_cat, first_cat.name returns Felix. \n",
    "\n",
    "Pay attention to the dot notation in this example. \n",
    "* The name attribute does not belong to all Cat objects; it belongs to the specific Cat object called first_cat."
   ]
  },
  {
   "cell_type": "code",
   "execution_count": 2,
   "id": "b79b01e6",
   "metadata": {},
   "outputs": [
    {
     "name": "stdout",
     "output_type": "stream",
     "text": [
      "Felix\n"
     ]
    }
   ],
   "source": [
    "first_cat = Cat('Felix')\n",
    "print(first_cat.name)"
   ]
  },
  {
   "cell_type": "markdown",
   "id": "1b2c8509",
   "metadata": {},
   "source": [
    "## C) Skill Drill: Create another object of the Cat Class. \n",
    "It's name should be Garfield, and the objects should be assigned to the variable second_cat.\n",
    "\n",
    "\n",
    "What does decond_cat Return? "
   ]
  },
  {
   "cell_type": "code",
   "execution_count": 3,
   "id": "ad46e01d",
   "metadata": {},
   "outputs": [
    {
     "name": "stdout",
     "output_type": "stream",
     "text": [
      "Garfield\n"
     ]
    }
   ],
   "source": [
    "second_cat = Cat('Garfield')\n",
    "print(second_cat.name)"
   ]
  },
  {
   "cell_type": "markdown",
   "id": "d9d6de8b",
   "metadata": {},
   "source": [
    "## D) Create a Dog Class\n",
    "* In OOP, an object can have attributes, such as name in the example above. \n",
    "* It can also perform actions through functions. \n",
    "\n",
    "* This class contains three attributes: name, color, and sound.\n",
    "* It also contains a method, or a function that is associated with an object. \n",
    "* This means that an object created from this Dog class can now perform an action through the bark method. "
   ]
  },
  {
   "cell_type": "code",
   "execution_count": 4,
   "id": "c50dc036",
   "metadata": {},
   "outputs": [],
   "source": [
    "class Dog:\n",
    "    def __init__(self, name, color, sound):\n",
    "        self.name = name\n",
    "        self.color = color\n",
    "        self.sound = sound\n",
    "\n",
    "    def bark(self):\n",
    "        return self.sound + ' ' + self.sound"
   ]
  },
  {
   "cell_type": "markdown",
   "id": "7d298af0",
   "metadata": {},
   "source": [
    "## E) Let's instantiate an object.\n",
    "The first_dog's bark method returns the first_dog's sound property twice: because the sound property is woof! for this object, calling the bark method returns woof! woof!."
   ]
  },
  {
   "cell_type": "code",
   "execution_count": 5,
   "id": "d3c79827",
   "metadata": {},
   "outputs": [
    {
     "name": "stdout",
     "output_type": "stream",
     "text": [
      "Fido\n",
      "brown\n"
     ]
    },
    {
     "data": {
      "text/plain": [
       "'woof! woof!'"
      ]
     },
     "execution_count": 5,
     "metadata": {},
     "output_type": "execute_result"
    }
   ],
   "source": [
    "first_dog = Dog('Fido', 'brown', 'woof!')\n",
    "print(    first_dog.name)\n",
    "print(first_dog.color)\n",
    "first_dog.bark()"
   ]
  },
  {
   "cell_type": "markdown",
   "id": "522e00bd",
   "metadata": {},
   "source": [
    "## F) Skill Drill: \n",
    "Instantiate another object of the Dog Class. \n",
    "* Name should be Lady\n",
    "* Color should be blonde\n",
    "* Sound should be arf! \n",
    "* The object should be assigned to the variable second_dog. \n",
    "\n",
    "Call this object's bark method. "
   ]
  },
  {
   "cell_type": "code",
   "execution_count": 8,
   "id": "0be264d3",
   "metadata": {},
   "outputs": [
    {
     "data": {
      "text/plain": [
       "'arf! arf!'"
      ]
     },
     "execution_count": 8,
     "metadata": {},
     "output_type": "execute_result"
    }
   ],
   "source": [
    "second_dog = Dog('Lady', 'blonde', 'arf!')\n",
    "#print(    second_dog.name)\n",
    "#print(second_dog.color)\n",
    "second_dog.bark()"
   ]
  },
  {
   "cell_type": "markdown",
   "id": "fb17e683",
   "metadata": {},
   "source": [
    "In a nutshell, object-oriented programming uses classes and objects to organize information: an object can hold attributes, and it can also run functions. \n",
    "\n",
    "When a function is associated with an object, it is called a method.\n",
    "If an object's attributes are like its adjectives and nouns (\"color\" and \"name\" for example), then its methods are like its verbs (\"bark\").\n",
    "\n",
    "Finally, remember that if you wanted to preview a Pandas DataFrame called df, you would call its head method. df.head()"
   ]
  },
  {
   "cell_type": "code",
   "execution_count": null,
   "id": "d881c781",
   "metadata": {},
   "outputs": [],
   "source": []
  }
 ],
 "metadata": {
  "kernelspec": {
   "display_name": "PythonData",
   "language": "python",
   "name": "pythondata"
  },
  "language_info": {
   "codemirror_mode": {
    "name": "ipython",
    "version": 3
   },
   "file_extension": ".py",
   "mimetype": "text/x-python",
   "name": "python",
   "nbconvert_exporter": "python",
   "pygments_lexer": "ipython3",
   "version": "3.7.10"
  }
 },
 "nbformat": 4,
 "nbformat_minor": 5
}
