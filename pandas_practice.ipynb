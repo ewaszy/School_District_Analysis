{
 "cells": [
  {
   "cell_type": "code",
   "execution_count": 14,
   "id": "824e39a8",
   "metadata": {},
   "outputs": [],
   "source": [
    "# List of high schools\n",
    "    # List_name = [\"item1\", \"item2\", \"item3\", \"item4\"]\n",
    "high_schools = [\"Hernandez High School\", \"Figueroa High School\",\n",
    "                \"Wilson High School\",\"Wright High School\"]"
   ]
  },
  {
   "cell_type": "code",
   "execution_count": 15,
   "id": "37f4cee1",
   "metadata": {},
   "outputs": [
    {
     "name": "stdout",
     "output_type": "stream",
     "text": [
      "Hernandez High School\n",
      "Figueroa High School\n",
      "Wilson High School\n",
      "Wright High School\n"
     ]
    }
   ],
   "source": [
    "# Print out each high school in list using a FOR loop\n",
    "    # 'school' is a placeholder we are using instead of (i), same results if we replaced with (i)\n",
    "    # Use a placeholder for each \"Item\" from the [list of items]\n",
    "for schools in high_schools:\n",
    "    print(schools)"
   ]
  },
  {
   "cell_type": "code",
   "execution_count": 16,
   "id": "5ea30ef0",
   "metadata": {},
   "outputs": [],
   "source": [
    "# A dictionary of high schools and the type of school.\n",
    "    # List_of_dictionaries_name = [{dict_1}, {dict2}, {dict3}, {dict4}]\n",
    "high_school_types = [{\"High School\": \"Griffin\", \"Type\":\"District\"},\n",
    "                    {\"High School\": \"Figueroa\", \"Type\": \"District\"},\n",
    "                    {\"High School\": \"Wilson\", \"Type\": \"Charter\"},\n",
    "                    {\"High School\": \"Wright\", \"Type\": \"Charter\"}]"
   ]
  },
  {
   "cell_type": "code",
   "execution_count": 17,
   "id": "86b46c65",
   "metadata": {
    "scrolled": true
   },
   "outputs": [
    {
     "name": "stdout",
     "output_type": "stream",
     "text": [
      "{'High School': 'Griffin', 'Type': 'District'}\n",
      "{'High School': 'Figueroa', 'Type': 'District'}\n",
      "{'High School': 'Wilson', 'Type': 'Charter'}\n",
      "{'High School': 'Wright', 'Type': 'Charter'}\n"
     ]
    }
   ],
   "source": [
    "# Use a placeholder to iterate through and print each {dictionary} from the [list of dictionaries]\n",
    "for hs_name_type in high_school_types: \n",
    "    print(hs_name_type)"
   ]
  },
  {
   "cell_type": "code",
   "execution_count": 18,
   "id": "b9f4dc4e",
   "metadata": {},
   "outputs": [],
   "source": [
    "# List of high schools\n",
    "    # We added these schools to the initial list of 4 schools we made in the first cell\n",
    "    # high_schools = [\"Hernandez High School\", \"Figueroa High School\",\n",
    "                #        \"Wilson High School\",\"Wright High School\"]\n",
    "    # When we go back to the second cell to print the list of schools AFTER RUNNING THIS CELL,\n",
    "        # the schools from below are printed together with the schools from the first list\n",
    "    # When we run the lines in order, the second cell only print the schools from the 1st list\n",
    "high_schools = [\"Huang High School\",  \"Figueroa High School\", \"Shelton High School\", \"Hernandez High School\",\"Griffin High School\",\"Wilson High School\", \"Cabrera High School\", \"Bailey High School\", \"Holden High School\", \"Pena High School\", \"Wright High School\",\"Rodriguez High School\", \"Johnson High School\", \"Ford High School\", \"Thomas High School\"]"
   ]
  },
  {
   "cell_type": "code",
   "execution_count": 19,
   "id": "54e6a229",
   "metadata": {},
   "outputs": [],
   "source": [
    "# Add the Pandas dependency.\n",
    "import pandas as pd"
   ]
  },
  {
   "cell_type": "code",
   "execution_count": 20,
   "id": "479d92c4",
   "metadata": {},
   "outputs": [
    {
     "data": {
      "text/plain": [
       "0         Huang High School\n",
       "1      Figueroa High School\n",
       "2       Shelton High School\n",
       "3     Hernandez High School\n",
       "4       Griffin High School\n",
       "5        Wilson High School\n",
       "6       Cabrera High School\n",
       "7        Bailey High School\n",
       "8        Holden High School\n",
       "9          Pena High School\n",
       "10       Wright High School\n",
       "11    Rodriguez High School\n",
       "12      Johnson High School\n",
       "13         Ford High School\n",
       "14       Thomas High School\n",
       "dtype: object"
      ]
     },
     "execution_count": 20,
     "metadata": {},
     "output_type": "execute_result"
    }
   ],
   "source": [
    "# Create a Pandas Series from a list.\n",
    "    # We assign the variable school_series to the conversion of the list of high schools to a \n",
    "        # Pandas Series by using pd.Series() instead of pandas.Series().\n",
    "    # This is how we use the alias pd in our code. There is no direct output.\n",
    "    # The series we created is in computer memory\n",
    "school_series = pd.Series(high_schools)\n",
    "# Retreive and view output by calling the variable school_series\n",
    "school_series"
   ]
  },
  {
   "cell_type": "code",
   "execution_count": 21,
   "id": "eb212bb3",
   "metadata": {},
   "outputs": [
    {
     "name": "stdout",
     "output_type": "stream",
     "text": [
      "Huang High School\n",
      "Figueroa High School\n",
      "Shelton High School\n",
      "Hernandez High School\n",
      "Griffin High School\n",
      "Wilson High School\n",
      "Cabrera High School\n",
      "Bailey High School\n",
      "Holden High School\n",
      "Pena High School\n",
      "Wright High School\n",
      "Rodriguez High School\n",
      "Johnson High School\n",
      "Ford High School\n",
      "Thomas High School\n"
     ]
    }
   ],
   "source": [
    "for (i) in school_series:\n",
    "    print(i)"
   ]
  },
  {
   "cell_type": "code",
   "execution_count": 23,
   "id": "8aca49d1",
   "metadata": {},
   "outputs": [],
   "source": [
    "# Create Dictionaries\n",
    "    # The column headers in the Excel file are the keys in the dictionary. \n",
    "    # The value for each of the keys corresponds to a row in the Excel file.\n",
    "high_school_dicts = [{\"School ID\": 0, \"school_name\": \"Huang High    School\", \"type\": \"District\"},  \n",
    "                     {\"School ID\": 1, \"school_name\": \"Figueroa High School\", \"type\": \"District\"},\n",
    "                    {\"School ID\": 2, \"school_name\":\"Shelton High School\", \"type\": \"Charter\"},\n",
    "                    {\"School ID\": 3, \"school_name\":\"Hernandez High School\", \"type\": \"District\"},\n",
    "                    {\"School ID\": 4, \"school_name\":\"Griffin High School\", \"type\": \"Charter\"}]"
   ]
  },
  {
   "cell_type": "code",
   "execution_count": 29,
   "id": "d832d341",
   "metadata": {},
   "outputs": [
    {
     "data": {
      "text/html": [
       "<div>\n",
       "<style scoped>\n",
       "    .dataframe tbody tr th:only-of-type {\n",
       "        vertical-align: middle;\n",
       "    }\n",
       "\n",
       "    .dataframe tbody tr th {\n",
       "        vertical-align: top;\n",
       "    }\n",
       "\n",
       "    .dataframe thead th {\n",
       "        text-align: right;\n",
       "    }\n",
       "</style>\n",
       "<table border=\"1\" class=\"dataframe\">\n",
       "  <thead>\n",
       "    <tr style=\"text-align: right;\">\n",
       "      <th></th>\n",
       "      <th>School ID</th>\n",
       "      <th>school_name</th>\n",
       "      <th>type</th>\n",
       "    </tr>\n",
       "  </thead>\n",
       "  <tbody>\n",
       "    <tr>\n",
       "      <th>0</th>\n",
       "      <td>0</td>\n",
       "      <td>Huang High    School</td>\n",
       "      <td>District</td>\n",
       "    </tr>\n",
       "    <tr>\n",
       "      <th>1</th>\n",
       "      <td>1</td>\n",
       "      <td>Figueroa High School</td>\n",
       "      <td>District</td>\n",
       "    </tr>\n",
       "    <tr>\n",
       "      <th>2</th>\n",
       "      <td>2</td>\n",
       "      <td>Shelton High School</td>\n",
       "      <td>Charter</td>\n",
       "    </tr>\n",
       "    <tr>\n",
       "      <th>3</th>\n",
       "      <td>3</td>\n",
       "      <td>Hernandez High School</td>\n",
       "      <td>District</td>\n",
       "    </tr>\n",
       "    <tr>\n",
       "      <th>4</th>\n",
       "      <td>4</td>\n",
       "      <td>Griffin High School</td>\n",
       "      <td>Charter</td>\n",
       "    </tr>\n",
       "  </tbody>\n",
       "</table>\n",
       "</div>"
      ],
      "text/plain": [
       "   School ID            school_name      type\n",
       "0          0   Huang High    School  District\n",
       "1          1   Figueroa High School  District\n",
       "2          2    Shelton High School   Charter\n",
       "3          3  Hernandez High School  District\n",
       "4          4    Griffin High School   Charter"
      ]
     },
     "execution_count": 29,
     "metadata": {},
     "output_type": "execute_result"
    }
   ],
   "source": [
    "# Convert the array, or list of dictionaries to a DataFrame\n",
    "    # We assign the variable school_df to the conversion of the list of high school districts \n",
    "        # to a Pandas Series by using pd.Series() instead of pandas.Series().\n",
    "    # This is how we use the alias pd in our code. There is no direct output.\n",
    "    # The series we created is in computer memory\n",
    "school_df = pd.DataFrame(high_school_dicts)\n",
    "# Retreive and view output by calling the variable school_df\n",
    "school_df"
   ]
  },
  {
   "cell_type": "code",
   "execution_count": 32,
   "id": "dbd6a14c",
   "metadata": {},
   "outputs": [],
   "source": [
    "# Three separate lists of information on high schools\n",
    "school_id = [0, 1, 2, 3, 4]\n",
    "\n",
    "school_name = [\"Huang High School\", \"Figueroa High School\",\n",
    "\"Shelton High School\", \"Hernandez High School\",\"Griffin High School\"]\n",
    "\n",
    "type_of_school = [\"District\", \"District\", \"Charter\", \"District\",\"Charter\"]"
   ]
  },
  {
   "cell_type": "code",
   "execution_count": 33,
   "id": "a1662128",
   "metadata": {},
   "outputs": [
    {
     "name": "stdout",
     "output_type": "stream",
     "text": [
      "   School ID            School Name      Type\n",
      "0          0      Huang High School  District\n",
      "1          1   Figueroa High School  District\n",
      "2          2    Shelton High School   Charter\n",
      "3          3  Hernandez High School  District\n",
      "4          4    Griffin High School   Charter\n"
     ]
    }
   ],
   "source": [
    "# Inialize a new DataFrame from 3 separate [lists] in previous cell\n",
    "schools_df = pd.DataFrame()\n",
    "\n",
    "# Add each list to the empty schools_df DataFrame\n",
    "    # Instead of using the dictionary name, we'll use the name of the DataFrame and make it equal \n",
    "        # to the list\n",
    "schools_df[\"School ID\"] = school_id\n",
    "\n",
    "# Skill Drill \n",
    "# Add the school_name list as \"School Name\" to the schools_df DataFrame. \n",
    "schools_df[\"School Name\"] = school_name\n",
    "# Add the type_of_school list as \"Type\" to the schools_df DataFrame.\n",
    "schools_df[\"Type\"] = type_of_school\n",
    "\n",
    "# Print the DataFrame\n",
    "print(schools_df)"
   ]
  },
  {
   "cell_type": "code",
   "execution_count": 35,
   "id": "c0ee3f40",
   "metadata": {},
   "outputs": [
    {
     "name": "stdout",
     "output_type": "stream",
     "text": [
      "   School ID            school_name      type\n",
      "0          0   Huang High    School  District\n",
      "1          1   Figueroa High School  District\n",
      "2          2    Shelton High School   Charter\n",
      "3          3  Hernandez High School  District\n",
      "4          4    Griffin High School   Charter\n"
     ]
    }
   ],
   "source": [
    "# Create the same DataFrame by creating a Python dictionary from the 3 lists: \n",
    "high_schools_dict = {'School ID': school_id, 'school_name':school_name, 'type':type_of_school} \n",
    "\n",
    "# Now we can convert the high_schools_dict to a DataFrame.\n",
    "# SKILL DRILL: Convert high_schools_dict to a DataFrame\n",
    "schools_df = pd.DataFrame(high_school_dicts)\n",
    "print(schools_df)"
   ]
  },
  {
   "cell_type": "code",
   "execution_count": 39,
   "id": "c931e098",
   "metadata": {},
   "outputs": [],
   "source": [
    "# SKILL DRILL (Given an image, three columns labeled \"school id, school_name, and type\" with info)\n",
    "\n",
    "# 1) Make three separate lists of information on high schools\n",
    "school_id_2 = [0, 1, 2, 3, 4, 5, 6, 7, 8, 9, 10, 11, 12, 13, 14]\n",
    "\n",
    "school_name_2 = [\"Huang High School\", \"Figueroa High School\", \n",
    "               \"Shelton High School\", \"Hernandez High School\",\"Griffin High School\", \n",
    "               \"Wilson High School\", \"Cabrera High School\", \"Bailey High School\", \n",
    "               \"Holden High School\", \"Pena High School\", \"Wright High School\", \n",
    "               \"Rodriguez High School\", \"Johnson High School\", \"Ford High School\", \n",
    "               \"Thomas High School\"]\n",
    "\n",
    "type_of_school_2 = [\"District\", \"District\", \"Charter\", \"District\", \"Charter\", \"Charter\", \"Charter\", \n",
    "                  \"District\", \"Charter\", \"Charter\", \"Charter\", \"District\", \"District\", \"District\",\n",
    "                  \"Charter\"]"
   ]
  },
  {
   "cell_type": "code",
   "execution_count": 42,
   "id": "0fcedc2a",
   "metadata": {},
   "outputs": [
    {
     "name": "stdout",
     "output_type": "stream",
     "text": [
      "    School ID            School Name      Type\n",
      "0           0      Huang High School  District\n",
      "1           1   Figueroa High School  District\n",
      "2           2    Shelton High School   Charter\n",
      "3           3  Hernandez High School  District\n",
      "4           4    Griffin High School   Charter\n",
      "5           5     Wilson High School   Charter\n",
      "6           6    Cabrera High School   Charter\n",
      "7           7     Bailey High School  District\n",
      "8           8     Holden High School   Charter\n",
      "9           9       Pena High School   Charter\n",
      "10         10     Wright High School   Charter\n",
      "11         11  Rodriguez High School  District\n",
      "12         12    Johnson High School  District\n",
      "13         13       Ford High School  District\n",
      "14         14     Thomas High School   Charter\n"
     ]
    }
   ],
   "source": [
    "# SKILL DRILL (CONT)\n",
    "# 2) Inialize a new DataFrame from 3 separate [lists] from above\n",
    "schools_df_2 = pd.DataFrame()\n",
    "\n",
    "# 3) Add each list to the empty schools_df DataFrame\n",
    "schools_df_2[\"School ID\"] = school_id_2\n",
    "schools_df_2[\"School Name\"] = school_name_2\n",
    "schools_df_2[\"Type\"] = type_of_school_2\n",
    "\n",
    "# 4) Print the DataFrame\n",
    "print(schools_df_2)"
   ]
  },
  {
   "cell_type": "code",
   "execution_count": null,
   "id": "dc243c24",
   "metadata": {},
   "outputs": [],
   "source": []
  }
 ],
 "metadata": {
  "kernelspec": {
   "display_name": "PythonData",
   "language": "python",
   "name": "pythondata"
  },
  "language_info": {
   "codemirror_mode": {
    "name": "ipython",
    "version": 3
   },
   "file_extension": ".py",
   "mimetype": "text/x-python",
   "name": "python",
   "nbconvert_exporter": "python",
   "pygments_lexer": "ipython3",
   "version": "3.7.10"
  }
 },
 "nbformat": 4,
 "nbformat_minor": 5
}
