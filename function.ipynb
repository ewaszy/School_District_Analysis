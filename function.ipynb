{
 "cells": [
  {
   "cell_type": "markdown",
   "id": "fc4f2947",
   "metadata": {},
   "source": [
    "#### Define the function \"say_hello\" so it prints \"Hello!\" when called."
   ]
  },
  {
   "cell_type": "code",
   "execution_count": 1,
   "id": "3a3f99f5",
   "metadata": {},
   "outputs": [],
   "source": [
    "def say_hello():\n",
    "    print(\"Hello!\")"
   ]
  },
  {
   "cell_type": "markdown",
   "id": "5a420c58",
   "metadata": {},
   "source": [
    "#### Call the function."
   ]
  },
  {
   "cell_type": "code",
   "execution_count": 2,
   "id": "7ab34ecf",
   "metadata": {},
   "outputs": [
    {
     "name": "stdout",
     "output_type": "stream",
     "text": [
      "Hello!\n"
     ]
    }
   ],
   "source": [
    "say_hello()"
   ]
  },
  {
   "cell_type": "markdown",
   "id": "4170aac1",
   "metadata": {},
   "source": [
    "#### Define the function \"say_something\" so it prints whatever is passed as the variable when called."
   ]
  },
  {
   "cell_type": "code",
   "execution_count": 3,
   "id": "55d343c2",
   "metadata": {},
   "outputs": [],
   "source": [
    "def say_something(something):\n",
    "    print(something)"
   ]
  },
  {
   "cell_type": "markdown",
   "id": "5fbfd8f8",
   "metadata": {},
   "source": [
    "#### Call the function."
   ]
  },
  {
   "cell_type": "code",
   "execution_count": 4,
   "id": "c2fa984c",
   "metadata": {},
   "outputs": [
    {
     "name": "stdout",
     "output_type": "stream",
     "text": [
      "Hello World\n"
     ]
    }
   ],
   "source": [
    "say_something(\"Hello World\")"
   ]
  },
  {
   "cell_type": "markdown",
   "id": "129f9a83",
   "metadata": {},
   "source": [
    "#### Print Jane's Introduction."
   ]
  },
  {
   "cell_type": "code",
   "execution_count": 5,
   "id": "1e4e9406",
   "metadata": {},
   "outputs": [
    {
     "name": "stdout",
     "output_type": "stream",
     "text": [
      "Hi, my name is Jane. I'm learning Python!\n"
     ]
    }
   ],
   "source": [
    "Jane_says = \"Hi, my name is Jane. I'm learning Python!\"\n",
    "say_something(Jane_says)"
   ]
  },
  {
   "cell_type": "markdown",
   "id": "1c7ae747",
   "metadata": {},
   "source": [
    "#### Using the map() function "
   ]
  },
  {
   "cell_type": "markdown",
   "id": "a20c3d32",
   "metadata": {},
   "source": [
    "A list of my grades."
   ]
  },
  {
   "cell_type": "code",
   "execution_count": 7,
   "id": "6e095d4e",
   "metadata": {},
   "outputs": [],
   "source": [
    "my_grades = ['B', 'C', 'B' , 'D']"
   ]
  },
  {
   "cell_type": "markdown",
   "id": "b877054b",
   "metadata": {},
   "source": [
    "Import Pandas and convert the list to a Series"
   ]
  },
  {
   "cell_type": "code",
   "execution_count": 8,
   "id": "64685e57",
   "metadata": {},
   "outputs": [
    {
     "data": {
      "text/plain": [
       "0    B\n",
       "1    C\n",
       "2    B\n",
       "3    D\n",
       "dtype: object"
      ]
     },
     "execution_count": 8,
     "metadata": {},
     "output_type": "execute_result"
    }
   ],
   "source": [
    "import pandas as pd\n",
    "\n",
    "my_grades = pd.Series(my_grades)\n",
    "my_grades"
   ]
  },
  {
   "cell_type": "markdown",
   "id": "def70234",
   "metadata": {},
   "source": [
    "##### Change the grades by one letter grade.\n",
    "Using the map() function we are going to change B to A, C to B, and D to C. \n",
    "\n",
    "To change each string value in this Series to another value using the following format: \n",
    "\n",
    "map(\"current_value_1\" : \"new_value_1\",  \"current_value_2\" : \"new_value_2\", etc)"
   ]
  },
  {
   "cell_type": "code",
   "execution_count": 9,
   "id": "5458f3d7",
   "metadata": {},
   "outputs": [
    {
     "data": {
      "text/plain": [
       "0    A\n",
       "1    B\n",
       "2    A\n",
       "3    C\n",
       "dtype: object"
      ]
     },
     "execution_count": 9,
     "metadata": {},
     "output_type": "execute_result"
    }
   ],
   "source": [
    "my_grades.map({'B': 'A', 'C': 'B', 'D': 'C'})"
   ]
  },
  {
   "cell_type": "markdown",
   "id": "6bb6b699",
   "metadata": {},
   "source": [
    "#### Using the format() function"
   ]
  },
  {
   "cell_type": "markdown",
   "id": "3ede5798",
   "metadata": {},
   "source": [
    "A list of my grades.\n",
    "\n",
    "We get the grades formatted to the nearest whole number percent:"
   ]
  },
  {
   "cell_type": "code",
   "execution_count": 11,
   "id": "7975087b",
   "metadata": {},
   "outputs": [
    {
     "name": "stdout",
     "output_type": "stream",
     "text": [
      "92\n",
      "85\n",
      "87\n",
      "98\n"
     ]
    }
   ],
   "source": [
    "my_grades = [92.34, 84.56, 86.78, 98.32]\n",
    "\n",
    "for grade in my_grades:\n",
    "    print(\"{:.0f}\".format(grade))"
   ]
  },
  {
   "cell_type": "markdown",
   "id": "d1716164",
   "metadata": {},
   "source": [
    "#### Chaining the map() and format() functions \n",
    "We also apply the format() function to a Series or column in a DataFrame by chaining the map() and format() functions\n",
    "* Convert the numberical grades to a Series"
   ]
  },
  {
   "cell_type": "code",
   "execution_count": 12,
   "id": "fa615bae",
   "metadata": {},
   "outputs": [
    {
     "data": {
      "text/plain": [
       "0    92.34\n",
       "1    84.56\n",
       "2    86.78\n",
       "3    78.32\n",
       "dtype: float64"
      ]
     },
     "execution_count": 12,
     "metadata": {},
     "output_type": "execute_result"
    }
   ],
   "source": [
    "my_grades = pd.Series([92.34, 84.56, 86.78, 78.32])\n",
    "my_grades"
   ]
  },
  {
   "cell_type": "markdown",
   "id": "565a3f31",
   "metadata": {},
   "source": [
    "Format the grades to the neares whole number"
   ]
  },
  {
   "cell_type": "code",
   "execution_count": 13,
   "id": "bbec577b",
   "metadata": {},
   "outputs": [
    {
     "data": {
      "text/plain": [
       "0    92\n",
       "1    85\n",
       "2    87\n",
       "3    78\n",
       "dtype: object"
      ]
     },
     "execution_count": 13,
     "metadata": {},
     "output_type": "execute_result"
    }
   ],
   "source": [
    "my_grades.map(\"{:.0f}\".format)"
   ]
  }
 ],
 "metadata": {
  "kernelspec": {
   "display_name": "PythonData",
   "language": "python",
   "name": "pythondata"
  },
  "language_info": {
   "codemirror_mode": {
    "name": "ipython",
    "version": 3
   },
   "file_extension": ".py",
   "mimetype": "text/x-python",
   "name": "python",
   "nbconvert_exporter": "python",
   "pygments_lexer": "ipython3",
   "version": "3.7.10"
  }
 },
 "nbformat": 4,
 "nbformat_minor": 5
}
